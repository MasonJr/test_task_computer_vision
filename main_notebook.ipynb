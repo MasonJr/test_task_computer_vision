{
 "cells": [
  {
   "cell_type": "code",
   "execution_count": 4,
   "metadata": {
    "scrolled": true
   },
   "outputs": [
    {
     "name": "stderr",
     "output_type": "stream",
     "text": [
      "Using TensorFlow backend.\n"
     ]
    }
   ],
   "source": [
    "import os\n",
    "\n",
    "import numpy as np\n",
    "import pandas as pd\n",
    "import scipy\n",
    "\n",
    "import matplotlib.pyplot as plt\n",
    "import seaborn as sns\n",
    "\n",
    "from skimage.io import imread\n",
    "from skimage.segmentation import mark_boundaries\n",
    "from skimage.morphology import label, binary_opening, disk\n",
    "\n",
    "from sklearn.model_selection import train_test_split\n",
    "\n",
    "import gc\n",
    "import datetime\n",
    "\n",
    "\n",
    "gc.enable()\n",
    "\n",
    "import keras.backend as K\n",
    "\n",
    "from keras.layers import *\n",
    "\n",
    "from keras.models import load_model, Model\n",
    "from keras.optimizers import Adam\n",
    "from keras.callbacks import ModelCheckpoint, LearningRateScheduler, EarlyStopping, ReduceLROnPlateau\n",
    "from keras.preprocessing.image import ImageDataGenerator\n",
    "from keras.losses import binary_crossentropy"
   ]
  },
  {
   "cell_type": "code",
   "execution_count": 5,
   "metadata": {},
   "outputs": [],
   "source": [
    "image_path = 'image_data/train_v2/'\n",
    "test_image = 'image_data/test_v2/'\n",
    "\n",
    "csv_dataset = 'csv_data/train_ship.csv'\n",
    "\n",
    "exclude_list = ['6384c3e78.jpg', ]\n",
    "original_img_size = (768, 768)\n",
    "\n",
    "LR = 0.0001\n",
    "\n",
    "BATCH_SIZE = 48\n",
    "EDGE_CROP = 16\n",
    "GAUSSIAN_NOISE = 0.1\n",
    "UPSAMPLE_MODE = 'SIMPLE'\n",
    "# downsampling inside the network\n",
    "NET_SCALING = (1, 1)\n",
    "# downsampling in preprocessing\n",
    "IMG_SCALING = (3, 3)\n",
    "# number of validation images to use\n",
    "VALID_IMG_COUNT = 900\n",
    "# maximum number of steps_per_epoch in training\n",
    "MAX_TRAIN_STEPS = 1500\n",
    "MAX_TRAIN_EPOCHS = 99\n",
    "AUGMENT_BRIGHTNESS = True\n",
    "\n",
    "weight_path=\"{}_weights.hdf5\".format('seg_model')"
   ]
  },
  {
   "cell_type": "code",
   "execution_count": 6,
   "metadata": {},
   "outputs": [],
   "source": [
    "df = pd.read_csv(csv_dataset)\n",
    "\n",
    "df = df[~df['ImageId'].isin(exclude_list)]\n",
    "df['ships'] = df.groupby(['ImageId'])['ImageId'].transform('count')\n",
    "df.loc[df['EncodedPixels'].isnull().values,'ships'] = 0\n",
    "\n",
    "df['file_size_kb'] = df['ImageId'].map(lambda image: \n",
    "                                       os.stat(os.path.join(image_path, image)).st_size/1024)\n",
    "df = df[df['file_size_kb'] > 60]"
   ]
  },
  {
   "cell_type": "code",
   "execution_count": 7,
   "metadata": {},
   "outputs": [],
   "source": [
    "imgs_w_ships = df[df['ships'] > 0]\n",
    "imgs_wo_ships = df[df['ships'] == 0].sample(20000, random_state=6978)\n",
    "\n",
    "selected_imgs = pd.concat((imgs_w_ships, imgs_wo_ships))\n",
    "\n",
    "selected_imgs['has_ship'] = selected_imgs['ships'] > 0"
   ]
  },
  {
   "cell_type": "code",
   "execution_count": 8,
   "metadata": {},
   "outputs": [
    {
     "data": {
      "text/plain": [
       "Text(0.5, 1.0, 'after proccessing')"
      ]
     },
     "execution_count": 8,
     "metadata": {},
     "output_type": "execute_result"
    },
    {
     "data": {
      "image/png": "[encoded data removed]",
      "text/plain": [
       "<Figure size 1008x432 with 2 Axes>"
      ]
     },
     "metadata": {
      "needs_background": "light"
     },
     "output_type": "display_data"
    }
   ],
   "source": [
    "fig, axes = plt.subplots(1, 2, figsize=(14, 6), sharex=True)\n",
    "\n",
    "fig.suptitle('Data distribution by number of ships per image', fontsize=18)\n",
    "\n",
    "sns.distplot(df['ships'], kde=False, color=\"r\", ax=axes[0])\n",
    "sns.distplot(selected_imgs['ships'], kde=False, color=\"b\", ax=axes[1])\n",
    "\n",
    "axes[0].set_title('before proccessing', fontsize=14)\n",
    "axes[1].set_title('after proccessing', fontsize=14)"
   ]
  },
  {
   "cell_type": "code",
   "execution_count": 9,
   "metadata": {},
   "outputs": [],
   "source": [
    "train_imgs, val_imgs = train_test_split(selected_imgs,\n",
    "                                        test_size=0.10,\n",
    "                                        stratify=selected_imgs['has_ship'],\n",
    "                                        random_state=69278)"
   ]
  },
  {
   "cell_type": "code",
   "execution_count": 10,
   "metadata": {},
   "outputs": [],
   "source": [
    "train_fnames = np.unique(train_imgs['ImageId'].values)\n",
    "val_fnames = np.unique(val_imgs['ImageId'].values)"
   ]
  },
  {
   "cell_type": "code",
   "execution_count": 11,
   "metadata": {},
   "outputs": [],
   "source": [
    "_, train_fnames = train_test_split(train_fnames, test_size=0.45, random_state=6978)\n",
    "_, val_fnames = train_test_split(val_fnames, test_size=0.45, random_state=6978)"
   ]
  },
  {
   "cell_type": "code",
   "execution_count": 12,
   "metadata": {},
   "outputs": [],
   "source": [
    "reduced_df = selected_imgs[['ImageId', 'EncodedPixels']]\n",
    "\n",
    "train_df = reduced_df[reduced_df['ImageId'].isin(train_fnames)]\n",
    "val_df = reduced_df[reduced_df['ImageId'].isin(val_fnames)]"
   ]
  },
  {
   "cell_type": "code",
   "execution_count": 13,
   "metadata": {},
   "outputs": [],
   "source": [
    "def rle_encoder(img, min_max_threshold=1e-3, max_mean_threshold=None):\n",
    "    \"\"\"\n",
    "    function for encoding image to submission dataset\n",
    "    \"\"\"\n",
    "    if np.max(img) < min_max_threshold:\n",
    "        return ''\n",
    "    if max_mean_threshold and np.mean(img) > max_mean_threshold:\n",
    "        return ''\n",
    "    pixels = img.T.flatten()\n",
    "    pixels = np.concatenate([[0], pixels, [0]])\n",
    "    runs = np.where(pixels[1:] != pixels[:-1])[0] + 1\n",
    "    runs[1::2] -= runs[::2]\n",
    "    return ' '.join(str(x) for x in runs)\n",
    "\n",
    "def rle_decoder(mask_rle, shape=(768, 768)):\n",
    "    \"\"\"\n",
    "    function for decoding target image\n",
    "    \"\"\"\n",
    "    s = mask_rle.split()\n",
    "    starts, lengths = [np.asarray(x, dtype=int) for x in (s[0::2], s[1::2])]\n",
    "    starts -= 1\n",
    "    ends = starts + lengths\n",
    "    img = np.zeros(shape[0]*shape[1], dtype=np.uint8)\n",
    "    for lo, hi in zip(starts, ends):\n",
    "        img[lo:hi] = 1\n",
    "    return img.reshape(shape).T\n",
    "\n",
    "def masks2image(in_mask_list):\n",
    "    \"\"\"\n",
    "    function for creating multi-layers mask\n",
    "    that consist some ships on ine image\n",
    "    \"\"\"\n",
    "    all_masks = np.zeros((768, 768), dtype = np.uint8)\n",
    "    for mask in in_mask_list:\n",
    "        if isinstance(mask, str):\n",
    "            all_masks |= rle_decoder(mask)\n",
    "    return all_masks\n",
    "\n",
    "# def masks2color(in_mask_list):\n",
    "#     \"\"\"\n",
    "#     function for creating multi-layers mask with different color map\n",
    "#     \"\"\"\n",
    "#     all_masks = np.zeros((768, 768), dtype = np.float)\n",
    "#     scale = lambda x: (len(in_mask_list)+x+1) / (len(in_mask_list)*2) ## scale the heatmap image to shift \n",
    "#     for i,mask in enumerate(in_mask_list):\n",
    "#         if isinstance(mask, str):\n",
    "#             all_masks[:,:] += scale(i) * rle_decoder(mask)\n",
    "#     return all_masks"
   ]
  },
  {
   "cell_type": "code",
   "execution_count": 14,
   "metadata": {},
   "outputs": [],
   "source": [
    "class CustomDataGenerator:\n",
    "    \n",
    "    def __init__(self, df_x, df_y,\n",
    "                 valid_df=None,\n",
    "                 batch_size=16,\n",
    "                 image_path=None,\n",
    "                 mask2image=None,\n",
    "                 augmentator=None):\n",
    "        \n",
    "        self.df_x = df_x # list of image filenames which will use for training\n",
    "        self.df_y = df_y # dataframe of image filenames and their encoded masks\n",
    "        self.valid_df = valid_df # dataframe of images and their masks\n",
    "        self.batch_size = batch_size # number of samples for one step\n",
    "        self.image_path = image_path # path to train images\n",
    "        self.augmentator = augmentator # image augmentation operations\n",
    "        \n",
    "    def __len__(self):\n",
    "        return int(np.ceil(len(self.df_x) / float(self.batch_size)))\n",
    "    \n",
    "    def batch_creator(self, batch_fname, batch_df):\n",
    "        height, width = original_img_size # take height and width for shape of input\n",
    "        input_images = np.zeros((self.batch_size, height, width, 3))\n",
    "        target_images = np.zeros((self.batch_size, height, width, 1))\n",
    "        for i, img_name in enumerate(batch_fname):\n",
    "            input_images[i, ...] = imread(os.path.join(image_path, img_name))\n",
    "            rle = batch_df[batch_df['ImageId'] == img_name]['EncodedPixels'].values\n",
    "            target_images[i, ...] = np.expand_dims(masks2image(rle), axis = 2)\n",
    "        return (input_images, target_images)\n",
    "    \n",
    "    def generate(self):\n",
    "        np.random.shuffle(self.df_x)\n",
    "        num_of_batches = self.__len__()\n",
    "        for batch in range(num_of_batches):\n",
    "            batch_fname = np.random.choice(self.df_x, self.batch_size)\n",
    "#             print(batch_fname)\n",
    "            batch_df = self.df_y[self.df_y['ImageId'].isin(batch_fname)]\n",
    "            yield self.batch_creator(batch_fname, batch_df)"
   ]
  },
  {
   "cell_type": "code",
   "execution_count": 15,
   "metadata": {},
   "outputs": [],
   "source": [
    "train_gen = CustomDataGenerator(train_fnames, train_df, image_path=image_path, batch_size=BATCH_SIZE)\n",
    "val_gen = CustomDataGenerator(val_fnames, val_df, image_path=image_path, batch_size=64)"
   ]
  },
  {
   "cell_type": "code",
   "execution_count": 16,
   "metadata": {},
   "outputs": [],
   "source": [
    "t_gen = train_gen.generate()\n",
    "v_gen = val_gen.generate()"
   ]
  },
  {
   "cell_type": "code",
   "execution_count": 17,
   "metadata": {},
   "outputs": [],
   "source": [
    "dg_args = dict(featurewise_center = False, \n",
    "               samplewise_center = False,\n",
    "               rotation_range = 45, \n",
    "               width_shift_range = 0.1, \n",
    "               height_shift_range = 0.1, \n",
    "               shear_range = 0.01,\n",
    "               zoom_range = [0.5, 0.8],  \n",
    "               horizontal_flip = True, \n",
    "               vertical_flip = True,\n",
    "               fill_mode = 'nearest',\n",
    "               data_format = 'channels_last')\n",
    "# brightness can be problematic since it seems to change the labels differently from the images \n",
    "if AUGMENT_BRIGHTNESS:\n",
    "    dg_args['brightness_range'] = [0.5, 1]\n",
    "image_gen = ImageDataGenerator(**dg_args)\n",
    "\n",
    "if AUGMENT_BRIGHTNESS:\n",
    "    dg_args.pop('brightness_range')\n",
    "    \n",
    "label_gen = ImageDataGenerator(**dg_args)\n",
    "\n",
    "def create_aug_gen(in_gen, seed = None):\n",
    "    np.random.seed(seed if seed is not None else np.random.choice(range(9999)))\n",
    "    for in_x, in_y in in_gen:\n",
    "        seed = np.random.choice(range(9999))\n",
    "        # keep the seeds syncronized otherwise the augmentation to the images is different from the masks\n",
    "        g_x = image_gen.flow(in_x, \n",
    "                             batch_size = in_x.shape[0], \n",
    "                             seed = seed, \n",
    "                             shuffle=True)\n",
    "        g_y = label_gen.flow(in_y, \n",
    "                             batch_size = in_x.shape[0], \n",
    "                             seed = seed, \n",
    "                             shuffle=True)\n",
    "        gc.collect()\n",
    "\n",
    "        yield next(g_x)/255.0, next(g_y)"
   ]
  },
  {
   "cell_type": "code",
   "execution_count": 18,
   "metadata": {},
   "outputs": [],
   "source": [
    "# def IoU(y_true, y_pred, eps=1e-6):\n",
    "#     if np.max(y_true) == 0.0:\n",
    "#         return IoU(1-y_true, 1-y_pred) ## empty image; calc IoU of zeros\n",
    "#     intersection = K.sum(y_true * y_pred, axis=[1,2,3])\n",
    "#     union = K.sum(y_true, axis=[1,2,3]) + K.sum(y_pred, axis=[1,2,3]) - intersection\n",
    "#     return -K.mean( (intersection + eps) / (union + eps), axis=0)"
   ]
  },
  {
   "cell_type": "code",
   "execution_count": 19,
   "metadata": {},
   "outputs": [],
   "source": [
    "checkpoint = ModelCheckpoint(weight_path,\n",
    "                             monitor='val_loss',\n",
    "                             verbose=1,\n",
    "                             save_best_only=True,\n",
    "                             mode='min',\n",
    "                             save_weights_only=True)\n",
    "\n",
    "reduceLROnPlat = ReduceLROnPlateau(monitor='val_loss', factor=0.1,\n",
    "                                   patience=1, verbose=1, mode='min',\n",
    "                                   min_delta=0.0001, cooldown=0, min_lr=1e-8)\n",
    "\n",
    "early = EarlyStopping(monitor=\"val_loss\",\n",
    "                      mode=\"min\",\n",
    "                      verbose=2,\n",
    "                      patience=20)\n",
    "\n",
    "callbacks_list = [checkpoint, reduceLROnPlat, early]"
   ]
  },
  {
   "cell_type": "code",
   "execution_count": 20,
   "metadata": {},
   "outputs": [
    {
     "name": "stderr",
     "output_type": "stream",
     "text": [
      "/home/yura/anaconda3/envs/machine/lib/python3.7/site-packages/keras/engine/saving.py:341: UserWarning: No training configuration found in save file: the model was *not* compiled. Compile it manually.\n",
      "  warnings.warn('No training configuration found in save file: '\n"
     ]
    }
   ],
   "source": [
    "model = load_model('U-Net.h5')"
   ]
  },
  {
   "cell_type": "code",
   "execution_count": 24,
   "metadata": {},
   "outputs": [],
   "source": [
    "def dice_score(y_pred, y_target):\n",
    "    comm = K.sum(y_pred * y_target)\n",
    "    return (comm * 2.0)/(K.sum(y_pred) + K.sum(y_target))\n",
    "\n",
    "def dice_loss(y_pred, y_target):\n",
    "    return 1-dice_score(y_pred, y_target)"
   ]
  },
  {
   "cell_type": "code",
   "execution_count": 25,
   "metadata": {},
   "outputs": [],
   "source": [
    "def fit():\n",
    "    model.compile(optimizer=Adam(1e-3, decay=1e-6), loss=dice_loss, metrics=['binary_accuracy'])\n",
    "    \n",
    "    step_count = min(MAX_TRAIN_STEPS, train_df.shape[0]//BATCH_SIZE)\n",
    "    aug_gen = create_aug_gen(t_gen)\n",
    "    loss_history = [model.fit_generator(aug_gen,\n",
    "                                        steps_per_epoch=step_count,\n",
    "                                        epochs=MAX_TRAIN_EPOCHS,\n",
    "                                        validation_data=v_gen,\n",
    "                                        validation_steps = 10,\n",
    "                                        callbacks=callbacks_list,\n",
    "                                        workers=1\n",
    "                                        )]\n",
    "    return loss_history"
   ]
  },
  {
   "cell_type": "code",
   "execution_count": null,
   "metadata": {},
   "outputs": [
    {
     "name": "stdout",
     "output_type": "stream",
     "text": [
      "Epoch 1/99\n"
     ]
    }
   ],
   "source": [
    "while True:\n",
    "    loss_history = fit()\n",
    "    if np.min([mh.history['val_loss'] for mh in loss_history]) < -0.2:\n",
    "        break"
   ]
  },
  {
   "cell_type": "code",
   "execution_count": null,
   "metadata": {},
   "outputs": [],
   "source": []
  },
  {
   "cell_type": "code",
   "execution_count": 108,
   "metadata": {},
   "outputs": [],
   "source": [
    "inputs = Input(shape=(768,768,3))\n",
    "conv0 = Conv2D(8, 3, activation='relu', padding='same', kernel_initializer='he_normal')(inputs)\n",
    "conv0 = BatchNormalization()(conv0)\n",
    "conv0 = Conv2D(8, 3, activation='relu', padding='same', kernel_initializer='he_normal')(conv0)\n",
    "conv0 = BatchNormalization()(conv0)\n",
    "\n",
    "comp0 = AveragePooling2D((6,6))(conv0)\n",
    "conv1 = Conv2D(16, 3, activation='relu', padding='same', kernel_initializer='he_normal')(comp0)\n",
    "conv1 = BatchNormalization()(conv1)\n",
    "conv1 = Conv2D(16, 3, activation='relu', padding='same', kernel_initializer='he_normal')(conv1)\n",
    "conv1 = BatchNormalization()(conv1)\n",
    "conv1 = Dropout(0.4)(conv1)\n",
    "\n",
    "pool1 = MaxPooling2D(pool_size=(2,2))(conv1)\n",
    "conv2 = Conv2D(32, 3, activation='relu', padding='same', kernel_initializer='he_normal')(pool1)\n",
    "conv2 = BatchNormalization()(conv2)\n",
    "conv2 = Conv2D(32, 3, activation='relu', padding='same', kernel_initializer='he_normal')(conv2)\n",
    "conv2 = BatchNormalization()(conv2)\n",
    "conv2 = Dropout(0.4)(conv2)\n",
    "\n",
    "pool2 = MaxPooling2D(pool_size=(2,2))(conv2)\n",
    "conv3 = Conv2D(64, 3, activation='relu', padding='same', kernel_initializer='he_normal')(pool2)\n",
    "conv3 = BatchNormalization()(conv3)\n",
    "conv3 = Conv2D(64, 3, activation='relu', padding='same', kernel_initializer='he_normal')(conv3)\n",
    "conv3 = BatchNormalization()(conv3)\n",
    "conv3 = Dropout(0.4)(conv3)\n",
    "\n",
    "pool3 = MaxPooling2D(pool_size=(2,2))(conv3)\n",
    "conv4 = Conv2D(128, 3, activation='relu', padding='same', kernel_initializer='he_normal')(pool3)\n",
    "conv4 = BatchNormalization()(conv4)\n",
    "conv4 = Conv2D(128, 3, activation='relu', padding='same', kernel_initializer='he_normal')(conv4)\n",
    "conv4 = BatchNormalization()(conv4)\n",
    "conv4 = Dropout(0.4)(conv4)\n",
    "\n",
    "pool4 = MaxPooling2D(pool_size=(2,2))(conv4)\n",
    "conv5 = Conv2D(256, 3, activation='relu', padding='same', kernel_initializer='he_normal')(pool4)\n",
    "conv5 = BatchNormalization()(conv5)\n",
    "conv5 = Conv2D(256, 3, activation='relu', padding='same', kernel_initializer='he_normal')(conv5)\n",
    "conv5 = BatchNormalization()(conv5)\n",
    "\n",
    "upcv6 = UpSampling2D(size=(2,2))(conv5)\n",
    "upcv6 = Conv2D(128, 2, activation='relu', padding='same', kernel_initializer='he_normal')(upcv6)\n",
    "upcv6 = BatchNormalization()(upcv6)\n",
    "mrge6 = concatenate([conv4, upcv6], axis=3)\n",
    "conv6 = Conv2D(128, 3, activation='relu', padding='same', kernel_initializer='he_normal')(mrge6)\n",
    "conv6 = BatchNormalization()(conv6)\n",
    "conv6 = Conv2D(128, 3, activation='relu', padding='same', kernel_initializer='he_normal')(conv6)\n",
    "conv6 = BatchNormalization()(conv6)\n",
    "\n",
    "upcv7 = UpSampling2D(size=(2,2))(conv6)\n",
    "upcv7 = Conv2D(64, 2, activation='relu', padding='same', kernel_initializer='he_normal')(upcv7)\n",
    "upcv7 = BatchNormalization()(upcv7)\n",
    "mrge7 = concatenate([conv3, upcv7], axis=3)\n",
    "conv7 = Conv2D(64, 3, activation='relu', padding='same', kernel_initializer='he_normal')(mrge7)\n",
    "conv7 = BatchNormalization()(conv7)\n",
    "conv7 = Conv2D(64, 3, activation='relu', padding='same', kernel_initializer='he_normal')(conv7)\n",
    "conv7 = BatchNormalization()(conv7)\n",
    "\n",
    "upcv8 = UpSampling2D(size=(2,2))(conv7)\n",
    "upcv8 = Conv2D(32, 2, activation='relu', padding='same', kernel_initializer='he_normal')(upcv8)\n",
    "upcv8 = BatchNormalization()(upcv8)\n",
    "mrge8 = concatenate([conv2, upcv8], axis=3)\n",
    "conv8 = Conv2D(32, 3, activation='relu', padding='same', kernel_initializer='he_normal')(mrge8)\n",
    "conv8 = BatchNormalization()(conv8)\n",
    "conv8 = Conv2D(32, 3, activation='relu', padding='same', kernel_initializer='he_normal')(conv8)\n",
    "conv8 = BatchNormalization()(conv8)\n",
    "\n",
    "upcv9 = UpSampling2D(size=(2,2))(conv8)\n",
    "upcv9 = Conv2D(16, 2, activation='relu', padding='same', kernel_initializer='he_normal')(upcv9)\n",
    "upcv9 = BatchNormalization()(upcv9)\n",
    "mrge9 = concatenate([conv1, upcv9], axis=3)\n",
    "conv9 = Conv2D(16, 3, activation='relu', padding='same', kernel_initializer='he_normal')(mrge9)\n",
    "conv9 = BatchNormalization()(conv9)\n",
    "conv9 = Conv2D(16, 3, activation='relu', padding='same', kernel_initializer='he_normal')(conv9)\n",
    "conv9 = BatchNormalization()(conv9)\n",
    "\n",
    "dcmp10 = UpSampling2D((6,6), interpolation='bilinear')(conv9)\n",
    "mrge10 = concatenate([dcmp10, conv0], axis=3)\n",
    "conv10 = Conv2D(16, 3, activation='relu', padding='same', kernel_initializer='he_normal')(mrge10)\n",
    "conv10 = BatchNormalization()(conv10)\n",
    "conv10 = Conv2D(8, 3, activation='relu', padding='same', kernel_initializer='he_normal')(conv10)\n",
    "conv10 = BatchNormalization()(conv10)\n",
    "conv11 = Conv2D(1, 1, activation='sigmoid')(conv10)\n",
    "\n",
    "model = Model(inputs=inputs, outputs=conv11)"
   ]
  }
 ],
 "metadata": {
  "kernelspec": {
   "display_name": "Python 3",
   "language": "python",
   "name": "python3"
  },
  "language_info": {
   "codemirror_mode": {
    "name": "ipython",
    "version": 3
   },
   "file_extension": ".py",
   "mimetype": "text/x-python",
   "name": "python",
   "nbconvert_exporter": "python",
   "pygments_lexer": "ipython3",
   "version": "3.7.6"
  }
 },
 "nbformat": 4,
 "nbformat_minor": 2
}
